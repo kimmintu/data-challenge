{
 "cells": [
  {
   "cell_type": "markdown",
   "metadata": {},
   "source": [
    "### Run this to import rental flats and houses from Luzern with a radius of 5km.\n",
    "\n",
    "* This search condition is defined by this URL parameter: **l=2253&r=5&s=1&t=1**\n",
    "* To search for Zurich, change **l=2253** to **l=4147** (for other cities, check the webpage www.immoscout24.ch)\n",
    "* For incremental import (e.g. additionally add new rental properties from the last 30 days), add: **&pa=30**"
   ]
  },
  {
   "cell_type": "code",
   "execution_count": 1,
   "metadata": {},
   "outputs": [
    {
     "name": "stdout",
     "output_type": "stream",
     "text": [
      "Before import job run, count: 2033\n",
      "Importing, please wait ...\n",
      "Finish importing from API, count: 2109\n"
     ]
    }
   ],
   "source": [
    "import pandas as pd\n",
    "import pytz\n",
    "import time\n",
    "import datetime\n",
    "import urllib\n",
    "import json\n",
    "from shutil import copyfile\n",
    "\n",
    "def requestApi(url):\n",
    "    response = urllib.request.urlopen(url)\n",
    "    document = json.loads(response.read())\n",
    "    return document\n",
    "\n",
    "def writeJsonFile(pathFileName, data):\n",
    "    with open(pathFileName, 'w') as outfile:\n",
    "        json.dump(data, outfile)\n",
    "\n",
    "def readJsonFile(pathFileName):\n",
    "    with open(pathFileName) as json_file:\n",
    "        return json.load(json_file)\n",
    "\n",
    "today_st = str(datetime.date.today())\n",
    "list_file = './data/processed_list_df.csv'\n",
    "document_file = './data/rent_documents.json'\n",
    "    \n",
    "api_url = 'https://rest-api.immoscout24.ch/v4/de/properties'\n",
    "# add &pa=30 to retrieve newest rental from the last 30 days\n",
    "# param l is the id for the city (i.e. 2253 is Luzern, 4147 for Zürich etc.)\n",
    "url_listing =  api_url + '?l=2253&r=5&s=1&t=1' \n",
    "\n",
    "response_listing = urllib.request.urlopen(url_listing)\n",
    "document_list_resp = json.loads(response_listing.read())\n",
    "\n",
    "document_json = readJsonFile(document_file)\n",
    "processed_df = pd.read_csv(list_file)\n",
    "processed_id_list = processed_df['id'].tolist()\n",
    "\n",
    "print('Before import job run, count: ' + str(len(processed_df)))\n",
    "\n",
    "print('Importing, please wait ...')\n",
    "\n",
    "for item in document_list_resp['allProperties']:\n",
    "    if item['id'] in processed_id_list:\n",
    "        continue\n",
    "    time.sleep(1)\n",
    "    url = api_url + '/' + str(item['id'])\n",
    "    document_json.append(requestApi(url))\n",
    "    processed_df = processed_df.append({'id': int(item['id']), \n",
    "                                        'lat': round(item['latitude'], 5), \n",
    "                                        'long': round(item['longitude'], 5), \n",
    "                                        'geoAccuracy': round(item['geoAccuracy'], 2)\n",
    "                                       }, ignore_index=True)\n",
    "\n",
    "processed_df = processed_df.sort_values(by=['id'])\n",
    "processed_df['id'] = processed_df['id'].astype(int)\n",
    "\n",
    "copyfile(list_file, list_file + '_copy_' + today_st)\n",
    "copyfile(document_file, document_file + '_copy_' + today_st)\n",
    "\n",
    "processed_df.to_csv(list_file, index=False)\n",
    "writeJsonFile(document_file, document_json)\n",
    "\n",
    "print(\"Finish importing from API, count: \" + str(len(processed_df)))\n"
   ]
  },
  {
   "cell_type": "code",
   "execution_count": null,
   "metadata": {},
   "outputs": [],
   "source": []
  }
 ],
 "metadata": {
  "kernelspec": {
   "display_name": "Python 3",
   "language": "python",
   "name": "python3"
  },
  "language_info": {
   "codemirror_mode": {
    "name": "ipython",
    "version": 3
   },
   "file_extension": ".py",
   "mimetype": "text/x-python",
   "name": "python",
   "nbconvert_exporter": "python",
   "pygments_lexer": "ipython3",
   "version": "3.7.9"
  }
 },
 "nbformat": 4,
 "nbformat_minor": 4
}
